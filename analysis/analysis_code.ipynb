{
 "cells": [
  {
   "cell_type": "markdown",
   "metadata": {},
   "source": [
    "# Group 4 Final Project: Analyzing funding and patent activity of NIMH researchers"
   ]
  },
  {
   "cell_type": "markdown",
   "metadata": {},
   "source": [
    "**The goal of this project is to investigate federally funded National Institute of Mental Health (NIMH) researchers and subsequent patenting activity as a result of their research.**\n",
    "\n",
    "* Our units of analysis are individual principal investigators (researchers) who were funded between Fiscal Years 2010 to 2018.\n",
    "\n",
    "* The main data sources are Federal Reporter and PatentsView."
   ]
  },
  {
   "cell_type": "code",
   "execution_count": 3,
   "metadata": {},
   "outputs": [
    {
     "name": "stderr",
     "output_type": "stream",
     "text": [
      "[nltk_data] Downloading package stopwords to /Users/mbp/nltk_data...\n",
      "[nltk_data]   Package stopwords is already up-to-date!\n"
     ]
    }
   ],
   "source": [
    "# Import libraries\n",
    "import pandas as pd\n",
    "import nltk\n",
    "from sklearn.feature_extraction.text import CountVectorizer, TfidfTransformer\n",
    "from sklearn.decomposition import LatentDirichletAllocation\n",
    "from sklearn import preprocessing\n",
    "from nltk import SnowballStemmer\n",
    "from nltk.corpus import stopwords\n",
    "nltk.download('stopwords')\n",
    "import string"
   ]
  },
  {
   "cell_type": "markdown",
   "metadata": {},
   "source": [
    "### Step 1: Linking National Insititute of Health (NIH) Approved Grants to Respective Patents"
   ]
  },
  {
   "cell_type": "markdown",
   "metadata": {},
   "source": [
    "We will start by importing all NIH grants since NIMH is a subagency of NIH.\n",
    "\n",
    "* We will import NIH grants from federal reporter which include all approved federally funded grants between fiscal years 2010 - 2018. This will be our base sample.\n",
    "\n",
    "* We will import NIH patents from PatentsView and directly link these patents to their respective projects.\n",
    "\n",
    "* For Patents, we used the available data in the shared course drive on Yandex (2010-2018), as well as the patents data on NIH ExPORTER with a direct link between patents and projects (https://exporter.nih.gov/ExPORTER_Catalog.aspx?sid=0&index=3)"
   ]
  },
  {
   "cell_type": "markdown",
   "metadata": {},
   "source": [
    "1) Importing the Grants data:"
   ]
  },
  {
   "cell_type": "code",
   "execution_count": 4,
   "metadata": {},
   "outputs": [],
   "source": [
    "years = list(range(2010,2019))\n",
    "\n",
    "data = [] # initiate list to store data frames:\n",
    "\n",
    "for year in years:\n",
    "    grant = pd.read_csv('/Users/mbp/Documents/NYU/Data Analytics for Public Policy/Final Project/FedRePORTER_PRJ_C_FY'+ str(year) + '.csv', skipinitialspace = True, low_memory = False)  # read-in a given file into a dataframe\n",
    "    data.append(grant)  # append that dataframe to a list\n",
    "\n",
    "# Concatenate all the dataframes together into one dataframe:\n",
    "df = pd.concat(data)"
   ]
  },
  {
   "cell_type": "code",
   "execution_count": 5,
   "metadata": {},
   "outputs": [],
   "source": [
    "# Filter to NIH only:\n",
    "df = df[df['AGENCY'] == \"NIH\"].reset_index()"
   ]
  },
  {
   "cell_type": "code",
   "execution_count": 6,
   "metadata": {},
   "outputs": [],
   "source": [
    "# Extract the core project number from the grants to match the project_id field in the patents:\n",
    "df['core_project_number'] = df['PROJECT_NUMBER'].str.slice(1, 12)"
   ]
  },
  {
   "cell_type": "code",
   "execution_count": 7,
   "metadata": {},
   "outputs": [
    {
     "data": {
      "text/plain": [
       "(646663, 26)"
      ]
     },
     "execution_count": 7,
     "metadata": {},
     "output_type": "execute_result"
    }
   ],
   "source": [
    "df.shape"
   ]
  },
  {
   "cell_type": "markdown",
   "metadata": {},
   "source": [
    "2) Importing the patents data:\n",
    "\n",
    "* (1) From yandex folder provided to us (these were combined into one single CSV containing all years 2010-2018 and labeled as 'patents_all.csv')\n",
    "* (2) From NIH-specific patents with the direct grant link (https://exporter.nih.gov/ExPORTER_Catalog.aspx?sid=0&index=3)"
   ]
  },
  {
   "cell_type": "code",
   "execution_count": 8,
   "metadata": {},
   "outputs": [],
   "source": [
    "p1018 = pd.read_csv(\"/Users/mbp/Documents/NYU/Data Analytics for Public Policy/Final Project/patents_all.csv\", engine = 'python')\n",
    "patents = pd.read_csv('/Users/mbp/Documents/NYU/Data Analytics for Public Policy/Final Project/RePORTER_PATENTS_C_ALL.csv', skipinitialspace = True, low_memory = False)"
   ]
  },
  {
   "cell_type": "code",
   "execution_count": 9,
   "metadata": {},
   "outputs": [
    {
     "data": {
      "text/plain": [
       "Index(['PATENT_ID', 'PATENT_TITLE', 'PROJECT_ID', 'PATENT_ORG_NAME'], dtype='object')"
      ]
     },
     "execution_count": 9,
     "metadata": {},
     "output_type": "execute_result"
    }
   ],
   "source": [
    "patents.columns"
   ]
  },
  {
   "cell_type": "code",
   "execution_count": 10,
   "metadata": {},
   "outputs": [
    {
     "data": {
      "text/plain": [
       "Index(['Unnamed: 0', 'patent_number', 'patent_title', 'patent_abstract',\n",
       "       'patent_num_cited_by_us_patents', 'patent_date', 'app_date',\n",
       "       'patent_firstnamed_inventor_name_first',\n",
       "       'patent_firstnamed_inventor_name_last',\n",
       "       'patent_firstnamed_inventor_city', 'patent_firstnamed_inventor_state',\n",
       "       'patent_firstnamed_inventor_latitude',\n",
       "       'patent_firstnamed_inventor_longitude',\n",
       "       'patent_firstnamed_assignee_organization',\n",
       "       'patent_firstnamed_assignee_city', 'patent_firstnamed_assignee_state',\n",
       "       'patent_firstnamed_assignee_latitude',\n",
       "       'patent_firstnamed_assignee_longitude'],\n",
       "      dtype='object')"
      ]
     },
     "execution_count": 10,
     "metadata": {},
     "output_type": "execute_result"
    }
   ],
   "source": [
    "p1018.columns"
   ]
  },
  {
   "cell_type": "markdown",
   "metadata": {},
   "source": [
    "3) **Next, we need to merge the grants information to the respective patent information (i.e. link the grant project number to the respective patent number that corresponds to the specific patent associated with that project).**\n",
    "\n",
    "* We do a full join (or outer join) to keep all projects regardless of whether it resulted in a patent or not."
   ]
  },
  {
   "cell_type": "code",
   "execution_count": 11,
   "metadata": {},
   "outputs": [],
   "source": [
    "grants_patents = df.merge(patents, left_on = \"core_project_number\", right_on = 'PROJECT_ID', how = 'outer')"
   ]
  },
  {
   "cell_type": "code",
   "execution_count": 12,
   "metadata": {},
   "outputs": [
    {
     "data": {
      "text/plain": [
       "Index(['index', 'grant_project_id', 'project_terms', 'project_title',\n",
       "       'department', 'agency', 'ic_center', 'project_number',\n",
       "       'project_start_date', 'project_end_date', 'contact_pi_project_leader',\n",
       "       'other_pis', 'congressional_district', 'duns_number',\n",
       "       'organization_name', 'organization_city', 'organization_state',\n",
       "       'organization_zip', 'organization_country', 'budget_start_date',\n",
       "       'budget_end_date', 'cfda_code', 'fy', 'fy_total_cost',\n",
       "       'fy_total_cost_sub_projects', 'core_project_number', 'patent_id',\n",
       "       'patent_title', 'patent_project_id', 'patent_org_name'],\n",
       "      dtype='object')"
      ]
     },
     "execution_count": 12,
     "metadata": {},
     "output_type": "execute_result"
    }
   ],
   "source": [
    "# Make columns lower-case and clean up column names:\n",
    "grants_patents.columns = grants_patents.columns.str.lower()\n",
    "grants_patents = grants_patents.rename({'project_id_x': 'grant_project_id', 'project_id_y': 'patent_project_id'}, axis = 1)\n",
    "grants_patents.columns"
   ]
  },
  {
   "cell_type": "code",
   "execution_count": 13,
   "metadata": {},
   "outputs": [],
   "source": [
    "# Remove rows that only have a patent (these correspond to non-NIH patents associated with non-NIH grants):\n",
    "grants_patents = grants_patents[grants_patents['grant_project_id'].notnull()]"
   ]
  },
  {
   "cell_type": "markdown",
   "metadata": {},
   "source": [
    "**Since the NIH patent data with the direct link only has a limited number of columns (i.e. no information on the inventor, patent abstract, date, etc.), we need to merge our patents data with another set of patent information that contains these fields of interest.**\n",
    "\n",
    "* We will merge our full NIH patents data with the patents data obtained from PatentsView from 2010-2018 (these are patents associated with projects that were funded between Fiscal Years 2010-2018)"
   ]
  },
  {
   "cell_type": "code",
   "execution_count": 14,
   "metadata": {},
   "outputs": [],
   "source": [
    "grants_patents = grants_patents.merge(p1018, left_on = 'patent_id', right_on = 'patent_number', how = 'outer')"
   ]
  },
  {
   "cell_type": "code",
   "execution_count": 15,
   "metadata": {},
   "outputs": [
    {
     "data": {
      "text/plain": [
       "(1035423, 48)"
      ]
     },
     "execution_count": 15,
     "metadata": {},
     "output_type": "execute_result"
    }
   ],
   "source": [
    "# Remove rows that only have a patent (these are non-NIH patents):\n",
    "grants_patents = grants_patents[grants_patents['grant_project_id'].notnull()]\n",
    "grants_patents.shape"
   ]
  },
  {
   "cell_type": "markdown",
   "metadata": {},
   "source": [
    "* Limitation: Reduction in rows, because some of the patents are not represented in the patents 10-18 data, and don't merge, so they are not included. This is because the data is limited to those years."
   ]
  },
  {
   "cell_type": "markdown",
   "metadata": {},
   "source": [
    "4) **Final dataframe:**"
   ]
  },
  {
   "cell_type": "code",
   "execution_count": 16,
   "metadata": {},
   "outputs": [
    {
     "data": {
      "text/html": [
       "<div>\n",
       "<style scoped>\n",
       "    .dataframe tbody tr th:only-of-type {\n",
       "        vertical-align: middle;\n",
       "    }\n",
       "\n",
       "    .dataframe tbody tr th {\n",
       "        vertical-align: top;\n",
       "    }\n",
       "\n",
       "    .dataframe thead th {\n",
       "        text-align: right;\n",
       "    }\n",
       "</style>\n",
       "<table border=\"1\" class=\"dataframe\">\n",
       "  <thead>\n",
       "    <tr style=\"text-align: right;\">\n",
       "      <th></th>\n",
       "      <th>index</th>\n",
       "      <th>grant_project_id</th>\n",
       "      <th>project_terms</th>\n",
       "      <th>project_title</th>\n",
       "      <th>department</th>\n",
       "      <th>agency</th>\n",
       "      <th>ic_center</th>\n",
       "      <th>project_number</th>\n",
       "      <th>project_start_date</th>\n",
       "      <th>project_end_date</th>\n",
       "      <th>...</th>\n",
       "      <th>patent_firstnamed_inventor_name_last</th>\n",
       "      <th>patent_firstnamed_inventor_city</th>\n",
       "      <th>patent_firstnamed_inventor_state</th>\n",
       "      <th>patent_firstnamed_inventor_latitude</th>\n",
       "      <th>patent_firstnamed_inventor_longitude</th>\n",
       "      <th>patent_firstnamed_assignee_organization</th>\n",
       "      <th>patent_firstnamed_assignee_city</th>\n",
       "      <th>patent_firstnamed_assignee_state</th>\n",
       "      <th>patent_firstnamed_assignee_latitude</th>\n",
       "      <th>patent_firstnamed_assignee_longitude</th>\n",
       "    </tr>\n",
       "  </thead>\n",
       "  <tbody>\n",
       "    <tr>\n",
       "      <th>0</th>\n",
       "      <td>15656.0</td>\n",
       "      <td>150649.0</td>\n",
       "      <td>Infectious Diseases Research</td>\n",
       "      <td>FACILITIES IMPROVEMENT FOR INFECTIOUS DISEASE ...</td>\n",
       "      <td>HHS</td>\n",
       "      <td>NIH</td>\n",
       "      <td>NCRR</td>\n",
       "      <td>1C06RR020088-01</td>\n",
       "      <td>10/20/2009</td>\n",
       "      <td>10/19/2014</td>\n",
       "      <td>...</td>\n",
       "      <td>NaN</td>\n",
       "      <td>NaN</td>\n",
       "      <td>NaN</td>\n",
       "      <td>NaN</td>\n",
       "      <td>NaN</td>\n",
       "      <td>NaN</td>\n",
       "      <td>NaN</td>\n",
       "      <td>NaN</td>\n",
       "      <td>NaN</td>\n",
       "      <td>NaN</td>\n",
       "    </tr>\n",
       "    <tr>\n",
       "      <th>1</th>\n",
       "      <td>15657.0</td>\n",
       "      <td>150652.0</td>\n",
       "      <td>Animal Experimentation</td>\n",
       "      <td>CONSTRUCTION OF THE MU ANIMAL RESEARCH CENTER</td>\n",
       "      <td>HHS</td>\n",
       "      <td>NIH</td>\n",
       "      <td>NCRR</td>\n",
       "      <td>1C06RR020544-01A1</td>\n",
       "      <td>10/20/2009</td>\n",
       "      <td>9/30/2013</td>\n",
       "      <td>...</td>\n",
       "      <td>NaN</td>\n",
       "      <td>NaN</td>\n",
       "      <td>NaN</td>\n",
       "      <td>NaN</td>\n",
       "      <td>NaN</td>\n",
       "      <td>NaN</td>\n",
       "      <td>NaN</td>\n",
       "      <td>NaN</td>\n",
       "      <td>NaN</td>\n",
       "      <td>NaN</td>\n",
       "    </tr>\n",
       "    <tr>\n",
       "      <th>2</th>\n",
       "      <td>15658.0</td>\n",
       "      <td>150654.0</td>\n",
       "      <td>Biomedical Research; research facility</td>\n",
       "      <td>CONSTRUCTION OF A BIOMEDICAL RESEARCH FACILITY...</td>\n",
       "      <td>HHS</td>\n",
       "      <td>NIH</td>\n",
       "      <td>NCRR</td>\n",
       "      <td>1C06RR020547-01A1</td>\n",
       "      <td>2/1/2010</td>\n",
       "      <td>12/12/2014</td>\n",
       "      <td>...</td>\n",
       "      <td>NaN</td>\n",
       "      <td>NaN</td>\n",
       "      <td>NaN</td>\n",
       "      <td>NaN</td>\n",
       "      <td>NaN</td>\n",
       "      <td>NaN</td>\n",
       "      <td>NaN</td>\n",
       "      <td>NaN</td>\n",
       "      <td>NaN</td>\n",
       "      <td>NaN</td>\n",
       "    </tr>\n",
       "    <tr>\n",
       "      <th>3</th>\n",
       "      <td>15659.0</td>\n",
       "      <td>150655.0</td>\n",
       "      <td>Accreditation; Air; animal care; animal facil...</td>\n",
       "      <td>MCKINLY LABORATORY ANIMAL FACILITY RENOVATION ...</td>\n",
       "      <td>HHS</td>\n",
       "      <td>NIH</td>\n",
       "      <td>NCRR</td>\n",
       "      <td>1C06RR020606-01A1</td>\n",
       "      <td>12/10/2009</td>\n",
       "      <td>9/30/2013</td>\n",
       "      <td>...</td>\n",
       "      <td>NaN</td>\n",
       "      <td>NaN</td>\n",
       "      <td>NaN</td>\n",
       "      <td>NaN</td>\n",
       "      <td>NaN</td>\n",
       "      <td>NaN</td>\n",
       "      <td>NaN</td>\n",
       "      <td>NaN</td>\n",
       "      <td>NaN</td>\n",
       "      <td>NaN</td>\n",
       "    </tr>\n",
       "    <tr>\n",
       "      <th>4</th>\n",
       "      <td>15660.0</td>\n",
       "      <td>150659.0</td>\n",
       "      <td>Extramural Activities; Facility Construction;...</td>\n",
       "      <td>PAR-04-122 EXTRAMURAL FACILITIES CONSTRUCTION ...</td>\n",
       "      <td>HHS</td>\n",
       "      <td>NIH</td>\n",
       "      <td>NCRR</td>\n",
       "      <td>1C06RR022056-01</td>\n",
       "      <td>3/4/2010</td>\n",
       "      <td>9/30/2014</td>\n",
       "      <td>...</td>\n",
       "      <td>NaN</td>\n",
       "      <td>NaN</td>\n",
       "      <td>NaN</td>\n",
       "      <td>NaN</td>\n",
       "      <td>NaN</td>\n",
       "      <td>NaN</td>\n",
       "      <td>NaN</td>\n",
       "      <td>NaN</td>\n",
       "      <td>NaN</td>\n",
       "      <td>NaN</td>\n",
       "    </tr>\n",
       "  </tbody>\n",
       "</table>\n",
       "<p>5 rows × 48 columns</p>\n",
       "</div>"
      ],
      "text/plain": [
       "     index  grant_project_id  \\\n",
       "0  15656.0          150649.0   \n",
       "1  15657.0          150652.0   \n",
       "2  15658.0          150654.0   \n",
       "3  15659.0          150655.0   \n",
       "4  15660.0          150659.0   \n",
       "\n",
       "                                       project_terms  \\\n",
       "0                       Infectious Diseases Research   \n",
       "1                             Animal Experimentation   \n",
       "2             Biomedical Research; research facility   \n",
       "3   Accreditation; Air; animal care; animal facil...   \n",
       "4   Extramural Activities; Facility Construction;...   \n",
       "\n",
       "                                       project_title department agency  \\\n",
       "0  FACILITIES IMPROVEMENT FOR INFECTIOUS DISEASE ...        HHS    NIH   \n",
       "1      CONSTRUCTION OF THE MU ANIMAL RESEARCH CENTER        HHS    NIH   \n",
       "2  CONSTRUCTION OF A BIOMEDICAL RESEARCH FACILITY...        HHS    NIH   \n",
       "3  MCKINLY LABORATORY ANIMAL FACILITY RENOVATION ...        HHS    NIH   \n",
       "4  PAR-04-122 EXTRAMURAL FACILITIES CONSTRUCTION ...        HHS    NIH   \n",
       "\n",
       "  ic_center     project_number project_start_date project_end_date  ...  \\\n",
       "0      NCRR    1C06RR020088-01         10/20/2009       10/19/2014  ...   \n",
       "1      NCRR  1C06RR020544-01A1         10/20/2009        9/30/2013  ...   \n",
       "2      NCRR  1C06RR020547-01A1           2/1/2010       12/12/2014  ...   \n",
       "3      NCRR  1C06RR020606-01A1         12/10/2009        9/30/2013  ...   \n",
       "4      NCRR    1C06RR022056-01           3/4/2010        9/30/2014  ...   \n",
       "\n",
       "  patent_firstnamed_inventor_name_last patent_firstnamed_inventor_city  \\\n",
       "0                                  NaN                             NaN   \n",
       "1                                  NaN                             NaN   \n",
       "2                                  NaN                             NaN   \n",
       "3                                  NaN                             NaN   \n",
       "4                                  NaN                             NaN   \n",
       "\n",
       "  patent_firstnamed_inventor_state patent_firstnamed_inventor_latitude  \\\n",
       "0                              NaN                                 NaN   \n",
       "1                              NaN                                 NaN   \n",
       "2                              NaN                                 NaN   \n",
       "3                              NaN                                 NaN   \n",
       "4                              NaN                                 NaN   \n",
       "\n",
       "  patent_firstnamed_inventor_longitude  \\\n",
       "0                                  NaN   \n",
       "1                                  NaN   \n",
       "2                                  NaN   \n",
       "3                                  NaN   \n",
       "4                                  NaN   \n",
       "\n",
       "  patent_firstnamed_assignee_organization patent_firstnamed_assignee_city  \\\n",
       "0                                     NaN                             NaN   \n",
       "1                                     NaN                             NaN   \n",
       "2                                     NaN                             NaN   \n",
       "3                                     NaN                             NaN   \n",
       "4                                     NaN                             NaN   \n",
       "\n",
       "  patent_firstnamed_assignee_state patent_firstnamed_assignee_latitude  \\\n",
       "0                              NaN                                 NaN   \n",
       "1                              NaN                                 NaN   \n",
       "2                              NaN                                 NaN   \n",
       "3                              NaN                                 NaN   \n",
       "4                              NaN                                 NaN   \n",
       "\n",
       "  patent_firstnamed_assignee_longitude  \n",
       "0                                  NaN  \n",
       "1                                  NaN  \n",
       "2                                  NaN  \n",
       "3                                  NaN  \n",
       "4                                  NaN  \n",
       "\n",
       "[5 rows x 48 columns]"
      ]
     },
     "execution_count": 16,
     "metadata": {},
     "output_type": "execute_result"
    }
   ],
   "source": [
    "grants_patents.head()"
   ]
  },
  {
   "cell_type": "markdown",
   "metadata": {},
   "source": [
    "### Step 2:  Examining the data, and exploratory analysis:\n",
    "\n",
    "* Here, we begin to explore our linked data of NIH grants and patents and address our research question.\n",
    "\n",
    "* To understand the overall landscape, we first investigate how many individual researchers and inventors exist in the data, and the overall patenting activity (how many inventions exist in this time frame)?\n",
    "\n",
    "* In order to identify unique individuals, we use information about the researcher names and create an identifier based on their first, middle, and last names."
   ]
  },
  {
   "cell_type": "markdown",
   "metadata": {},
   "source": [
    "1) Create unique identifier for each individual in order to identify them:"
   ]
  },
  {
   "cell_type": "code",
   "execution_count": 17,
   "metadata": {},
   "outputs": [
    {
     "data": {
      "text/plain": [
       "0             MICHAELJOGLESBEE,\n",
       "1          ROBERTDICKINSONHALL,\n",
       "2                  JOHNHKROUSE,\n",
       "3             CHARLESG.RIORDAN,\n",
       "4               ANDREWSWEYRICH,\n",
       "                   ...         \n",
       "1035418      AMYELIZABETHBARTH,\n",
       "1035419     ALEXANDERAORAEVSKY,\n",
       "1035420              STEVENCHU,\n",
       "1035421       ZDRAVKAOMEDAROVA,\n",
       "1035422          STACEYGABRIEL,\n",
       "Name: unique_id, Length: 1035423, dtype: object"
      ]
     },
     "execution_count": 17,
     "metadata": {},
     "output_type": "execute_result"
    }
   ],
   "source": [
    "grants_patents['pi_name_first'] = grants_patents['contact_pi_project_leader'].str.split(' ').str.get(1)\n",
    "grants_patents['pi_name_middle'] = grants_patents['contact_pi_project_leader'].str.split(' ').str.get(2)\n",
    "grants_patents['pi_name_last'] = grants_patents['contact_pi_project_leader'].str.split(' ').str.get(0)\n",
    "grants_patents['pi_name_middle'] = grants_patents['pi_name_middle'].fillna('')\n",
    "grants_patents['unique_id'] = grants_patents['pi_name_first'] + grants_patents['pi_name_middle'] + grants_patents['pi_name_last']\n",
    "grants_patents.unique_id"
   ]
  },
  {
   "cell_type": "markdown",
   "metadata": {},
   "source": [
    "1) Finding the number of unique principal investigators funded from FY 2010 - FY 2018 within NIH and NIMH:"
   ]
  },
  {
   "cell_type": "code",
   "execution_count": 18,
   "metadata": {},
   "outputs": [
    {
     "data": {
      "text/plain": [
       "6725"
      ]
     },
     "execution_count": 18,
     "metadata": {},
     "output_type": "execute_result"
    }
   ],
   "source": [
    "grants_patents[grants_patents['ic_center']==\"NIMH\"]['unique_id'].nunique()"
   ]
  },
  {
   "cell_type": "markdown",
   "metadata": {},
   "source": [
    "2) Next, we parse out the first, middle, and last names of patent inventors to create a unique identifier for each inventor (not necessarily the same as the researcher / principal investigator)"
   ]
  },
  {
   "cell_type": "code",
   "execution_count": 19,
   "metadata": {},
   "outputs": [],
   "source": [
    "grants_patents['inv_name_middle'] = grants_patents['patent_firstnamed_inventor_name_first'].str.split(' ').str.get(1)\n",
    "grants_patents['inv_name_first'] = grants_patents['patent_firstnamed_inventor_name_first'].str.split(' ').str.get(0)\n",
    "grants_patents['inv_name_last'] = grants_patents['patent_firstnamed_inventor_name_last']\n",
    "grants_patents['inv_name_middle'] = grants_patents['inv_name_middle'].fillna('')\n",
    "grants_patents['inv_unique_id'] = grants_patents['inv_name_first'] + grants_patents['inv_name_middle'] + grants_patents['inv_name_last']"
   ]
  },
  {
   "cell_type": "code",
   "execution_count": 20,
   "metadata": {},
   "outputs": [
    {
     "data": {
      "text/plain": [
       "116"
      ]
     },
     "execution_count": 20,
     "metadata": {},
     "output_type": "execute_result"
    }
   ],
   "source": [
    "grants_patents[grants_patents['ic_center']==\"NIMH\"]['inv_unique_id'].nunique()"
   ]
  },
  {
   "cell_type": "markdown",
   "metadata": {},
   "source": [
    "* There are 116 unique inventors in NIMH from 2010-2018"
   ]
  },
  {
   "cell_type": "markdown",
   "metadata": {},
   "source": [
    "3) Calculate total funding received by the top 10% of highest paid researchers in NIMH:"
   ]
  },
  {
   "cell_type": "code",
   "execution_count": 21,
   "metadata": {},
   "outputs": [
    {
     "data": {
      "text/plain": [
       "9.042190273"
      ]
     },
     "execution_count": 21,
     "metadata": {},
     "output_type": "execute_result"
    }
   ],
   "source": [
    "(grants_patents[grants_patents['ic_center']==\"NIMH\"].groupby('unique_id', as_index = False)['fy_total_cost'].sum().sort_values(by='fy_total_cost', ascending = False).reset_index().head(673)['fy_total_cost'].sum())/1000000000"
   ]
  },
  {
   "cell_type": "markdown",
   "metadata": {},
   "source": [
    "### Step 3: Comparing funding and activity between \"Established\" and \"New\" researchers:\n",
    "\n",
    "* Now that we have an exploratory look at how many researchers exist in our data, we want to assess whether there is a difference in the amount of funding given to a particular group of researchers, compared to another.\n",
    "\n",
    "\n",
    "* Specifically, we want to define two groups:\n",
    "\n",
    "    * **Established Researchers**: Researchers who are currently being funded for a project in FY 2010 - 2018 <u>that also had one or more projects that started before the year 2010</u>.\n",
    "    * **New Researchers**: Researchers who are currently being funded for a project in FY 2010 - 2018 <u>that have one or more projects that started after 2010.</u>\n",
    "    \n",
    "    * For example, if I was a researcher who is currently being funded for a project but previously worked on a project in the past that started in 2002, I would be considered an Established Researcher.\n",
    "    \n",
    "    \n",
    "* The motive behind creating these two groups and definitions is to distinguish between veteran researchers who may be  well known in the field and consistently receive grants, funding, and might generally be favored to produce quality results, and compare them to newer researchers who may have just received their first grant recently, and not have had time to to become established, but may still be working on important issues or topics in the field.\n",
    "\n",
    "\n",
    "\n",
    "* Limitations to the definitions include the fact that a person who only worked on one project prior to 2010 will be considered \"established\", however they might not actually possess a lot of experience researching in the field. On the other hand, researchers may have worked in other agencies and may not show up in this data set until later, and will be considered \"new\" when they are actually experienced.\n"
   ]
  },
  {
   "cell_type": "markdown",
   "metadata": {},
   "source": [
    "1) In order to create our two groups, we need to create a new column in our data that identifies whether an individual is 'established' or not, depending on that individuals earliest project start date. So, if someone's earliest project start date is before 2010, they will be classified as 'group 1', otherwise 'group 2'."
   ]
  },
  {
   "cell_type": "code",
   "execution_count": 22,
   "metadata": {},
   "outputs": [],
   "source": [
    "# first, extract project start year from 'project_start_year' column:\n",
    "grants_patents['project_start_year'] = pd.DatetimeIndex(grants_patents['project_start_date']).year"
   ]
  },
  {
   "cell_type": "markdown",
   "metadata": {},
   "source": [
    "2) Create a metric \"established\" which measures how established a researcher is. This code will check whether an individual's <u> minimum</u> \"project_start_year\" is less than 2010:"
   ]
  },
  {
   "cell_type": "code",
   "execution_count": 23,
   "metadata": {},
   "outputs": [],
   "source": [
    "import numpy as np\n",
    "grants_patents['established'] = np.where((grants_patents.groupby('unique_id')['project_start_year'].transform('min')) <=2010, 1, 0)"
   ]
  },
  {
   "cell_type": "markdown",
   "metadata": {},
   "source": [
    "3) Investigating the compositions of both groups:"
   ]
  },
  {
   "cell_type": "markdown",
   "metadata": {},
   "source": [
    "Below represents the total number of Established Researchers (GROUP 1) in NIMH:"
   ]
  },
  {
   "cell_type": "code",
   "execution_count": 24,
   "metadata": {},
   "outputs": [
    {
     "data": {
      "text/plain": [
       "3943"
      ]
     },
     "execution_count": 24,
     "metadata": {},
     "output_type": "execute_result"
    }
   ],
   "source": [
    "grants_patents[(grants_patents['established']==1) & (grants_patents['ic_center']==\"NIMH\")]['unique_id'].nunique()"
   ]
  },
  {
   "cell_type": "markdown",
   "metadata": {},
   "source": [
    "Below represents the total number of New Researchers (GROUP 2) in NIMH:"
   ]
  },
  {
   "cell_type": "code",
   "execution_count": 25,
   "metadata": {},
   "outputs": [
    {
     "data": {
      "text/plain": [
       "2782"
      ]
     },
     "execution_count": 25,
     "metadata": {},
     "output_type": "execute_result"
    }
   ],
   "source": [
    "grants_patents[(grants_patents['established']==0) & (grants_patents['ic_center']==\"NIMH\")]['unique_id'].nunique()"
   ]
  },
  {
   "cell_type": "code",
   "execution_count": 26,
   "metadata": {},
   "outputs": [],
   "source": [
    "# Create separate dataframes for each group:\n",
    "group1 = grants_patents[(grants_patents['established']==1) & (grants_patents['ic_center']==\"NIMH\")]\n",
    "group2 = grants_patents[(grants_patents['established']==0) & (grants_patents['ic_center']==\"NIMH\")]"
   ]
  },
  {
   "cell_type": "markdown",
   "metadata": {},
   "source": [
    "4) Calculate number of unique grants for each group:"
   ]
  },
  {
   "cell_type": "code",
   "execution_count": 25,
   "metadata": {},
   "outputs": [
    {
     "data": {
      "text/plain": [
       "23729"
      ]
     },
     "execution_count": 25,
     "metadata": {},
     "output_type": "execute_result"
    }
   ],
   "source": [
    "group1['grant_project_id'].nunique()"
   ]
  },
  {
   "cell_type": "code",
   "execution_count": 26,
   "metadata": {},
   "outputs": [
    {
     "data": {
      "text/plain": [
       "9597"
      ]
     },
     "execution_count": 26,
     "metadata": {},
     "output_type": "execute_result"
    }
   ],
   "source": [
    "group2['grant_project_id'].nunique()"
   ]
  },
  {
   "cell_type": "markdown",
   "metadata": {},
   "source": [
    "5) Calculate number of PI's with projects that have patents:"
   ]
  },
  {
   "cell_type": "code",
   "execution_count": 27,
   "metadata": {},
   "outputs": [
    {
     "data": {
      "text/plain": [
       "172"
      ]
     },
     "execution_count": 27,
     "metadata": {},
     "output_type": "execute_result"
    }
   ],
   "source": [
    "group1[group1['patent_id'].notnull()]['unique_id'].nunique()"
   ]
  },
  {
   "cell_type": "code",
   "execution_count": 28,
   "metadata": {},
   "outputs": [
    {
     "data": {
      "text/plain": [
       "35"
      ]
     },
     "execution_count": 28,
     "metadata": {},
     "output_type": "execute_result"
    }
   ],
   "source": [
    "group2[group2['patent_id'].notnull()]['unique_id'].nunique()"
   ]
  },
  {
   "cell_type": "markdown",
   "metadata": {},
   "source": [
    "6) Calculate total funding received by each group (in billions)"
   ]
  },
  {
   "cell_type": "code",
   "execution_count": 29,
   "metadata": {},
   "outputs": [
    {
     "data": {
      "text/plain": [
       "11.352616923"
      ]
     },
     "execution_count": 29,
     "metadata": {},
     "output_type": "execute_result"
    }
   ],
   "source": [
    "(group1['fy_total_cost'].sum())/1000000000"
   ]
  },
  {
   "cell_type": "code",
   "execution_count": 30,
   "metadata": {},
   "outputs": [
    {
     "data": {
      "text/plain": [
       "4.067099361"
      ]
     },
     "execution_count": 30,
     "metadata": {},
     "output_type": "execute_result"
    }
   ],
   "source": [
    "(group2['fy_total_cost'].sum())/1000000000"
   ]
  },
  {
   "cell_type": "markdown",
   "metadata": {},
   "source": [
    "Boxplot of average funding per PI in each group:"
   ]
  },
  {
   "cell_type": "code",
   "execution_count": 69,
   "metadata": {},
   "outputs": [
    {
     "data": {
      "text/plain": [
       "[Text(0, 0.5, 'Average Funding per PI (Millions)'),\n",
       " Text(0.5, 0, 'Group'),\n",
       " Text(0.5, 1.0, 'On Average, Junior Researchers Receive Less Funding per PI')]"
      ]
     },
     "execution_count": 69,
     "metadata": {},
     "output_type": "execute_result"
    },
    {
     "data": {
      "image/png": "[encoded data removed]",
      "text/plain": [
       "<Figure size 432x288 with 1 Axes>"
      ]
     },
     "metadata": {
      "needs_background": "light"
     },
     "output_type": "display_data"
    }
   ],
   "source": [
    "import seaborn as sns\n",
    "box_plot = grants_patents[grants_patents['ic_center']==\"NIMH\"].groupby(['unique_id', 'established'])['fy_total_cost'].sum().to_frame().reset_index()\n",
    "box_plot['fy_total_cost'] = box_plot['fy_total_cost']/1000000\n",
    "sns.boxplot(x = 'established', y = 'fy_total_cost', data = box_plot, showfliers = False).set(title = \"On Average, Junior Researchers Receive Less Funding per PI\", xlabel='Group', ylabel='Average Funding per PI (Millions)')"
   ]
  },
  {
   "cell_type": "markdown",
   "metadata": {},
   "source": [
    "7) Calculate total funding on patented research:"
   ]
  },
  {
   "cell_type": "code",
   "execution_count": 31,
   "metadata": {},
   "outputs": [
    {
     "data": {
      "text/plain": [
       "2.742272669"
      ]
     },
     "execution_count": 31,
     "metadata": {},
     "output_type": "execute_result"
    }
   ],
   "source": [
    "(group1[group1['patent_id'].notnull()]['fy_total_cost'].sum())/1000000000"
   ]
  },
  {
   "cell_type": "code",
   "execution_count": 32,
   "metadata": {},
   "outputs": [
    {
     "data": {
      "text/plain": [
       "0.463675048"
      ]
     },
     "execution_count": 32,
     "metadata": {},
     "output_type": "execute_result"
    }
   ],
   "source": [
    "(group2[group2['patent_id'].notnull()]['fy_total_cost'].sum())/1000000000"
   ]
  },
  {
   "cell_type": "markdown",
   "metadata": {},
   "source": [
    "Highest paid individuals in Group 1:"
   ]
  },
  {
   "cell_type": "code",
   "execution_count": 33,
   "metadata": {},
   "outputs": [
    {
     "data": {
      "text/html": [
       "<div>\n",
       "<style scoped>\n",
       "    .dataframe tbody tr th:only-of-type {\n",
       "        vertical-align: middle;\n",
       "    }\n",
       "\n",
       "    .dataframe tbody tr th {\n",
       "        vertical-align: top;\n",
       "    }\n",
       "\n",
       "    .dataframe thead th {\n",
       "        text-align: right;\n",
       "    }\n",
       "</style>\n",
       "<table border=\"1\" class=\"dataframe\">\n",
       "  <thead>\n",
       "    <tr style=\"text-align: right;\">\n",
       "      <th></th>\n",
       "      <th>index</th>\n",
       "      <th>unique_id</th>\n",
       "      <th>fy_total_cost</th>\n",
       "    </tr>\n",
       "  </thead>\n",
       "  <tbody>\n",
       "    <tr>\n",
       "      <th>0</th>\n",
       "      <td>1379</td>\n",
       "      <td>HUGHROSEN,</td>\n",
       "      <td>717755784.0</td>\n",
       "    </tr>\n",
       "    <tr>\n",
       "      <th>1</th>\n",
       "      <td>2945</td>\n",
       "      <td>PJEFFREYCONN,</td>\n",
       "      <td>296594283.0</td>\n",
       "    </tr>\n",
       "    <tr>\n",
       "      <th>2</th>\n",
       "      <td>646</td>\n",
       "      <td>CRAIGLINDSLEY,</td>\n",
       "      <td>282851207.0</td>\n",
       "    </tr>\n",
       "    <tr>\n",
       "      <th>3</th>\n",
       "      <td>3398</td>\n",
       "      <td>SOLOMONH.SNYDER,</td>\n",
       "      <td>209748798.0</td>\n",
       "    </tr>\n",
       "    <tr>\n",
       "      <th>4</th>\n",
       "      <td>1083</td>\n",
       "      <td>ESSEN,DAVIDVAN</td>\n",
       "      <td>196452543.0</td>\n",
       "    </tr>\n",
       "  </tbody>\n",
       "</table>\n",
       "</div>"
      ],
      "text/plain": [
       "   index         unique_id  fy_total_cost\n",
       "0   1379        HUGHROSEN,    717755784.0\n",
       "1   2945     PJEFFREYCONN,    296594283.0\n",
       "2    646    CRAIGLINDSLEY,    282851207.0\n",
       "3   3398  SOLOMONH.SNYDER,    209748798.0\n",
       "4   1083    ESSEN,DAVIDVAN    196452543.0"
      ]
     },
     "execution_count": 33,
     "metadata": {},
     "output_type": "execute_result"
    }
   ],
   "source": [
    "group1.groupby('unique_id', as_index = False)['fy_total_cost'].sum().sort_values(by='fy_total_cost', ascending = False).reset_index().head(5)"
   ]
  },
  {
   "cell_type": "markdown",
   "metadata": {},
   "source": [
    "Highest paid individuals in Group 2:"
   ]
  },
  {
   "cell_type": "code",
   "execution_count": 34,
   "metadata": {},
   "outputs": [
    {
     "data": {
      "text/html": [
       "<div>\n",
       "<style scoped>\n",
       "    .dataframe tbody tr th:only-of-type {\n",
       "        vertical-align: middle;\n",
       "    }\n",
       "\n",
       "    .dataframe tbody tr th {\n",
       "        vertical-align: top;\n",
       "    }\n",
       "\n",
       "    .dataframe thead th {\n",
       "        text-align: right;\n",
       "    }\n",
       "</style>\n",
       "<table border=\"1\" class=\"dataframe\">\n",
       "  <thead>\n",
       "    <tr style=\"text-align: right;\">\n",
       "      <th></th>\n",
       "      <th>index</th>\n",
       "      <th>unique_id</th>\n",
       "      <th>fy_total_cost</th>\n",
       "    </tr>\n",
       "  </thead>\n",
       "  <tbody>\n",
       "    <tr>\n",
       "      <th>0</th>\n",
       "      <td>426</td>\n",
       "      <td>CARLOSZARATE,</td>\n",
       "      <td>157654606.0</td>\n",
       "    </tr>\n",
       "    <tr>\n",
       "      <th>1</th>\n",
       "      <td>895</td>\n",
       "      <td>FENGZHANG,</td>\n",
       "      <td>113344577.0</td>\n",
       "    </tr>\n",
       "    <tr>\n",
       "      <th>2</th>\n",
       "      <td>2556</td>\n",
       "      <td>SUSANAMARA,</td>\n",
       "      <td>89773897.0</td>\n",
       "    </tr>\n",
       "    <tr>\n",
       "      <th>3</th>\n",
       "      <td>2669</td>\n",
       "      <td>VICTORWPIKE,</td>\n",
       "      <td>69464900.0</td>\n",
       "    </tr>\n",
       "    <tr>\n",
       "      <th>4</th>\n",
       "      <td>1112</td>\n",
       "      <td>JAMESRABER,</td>\n",
       "      <td>67439949.0</td>\n",
       "    </tr>\n",
       "  </tbody>\n",
       "</table>\n",
       "</div>"
      ],
      "text/plain": [
       "   index      unique_id  fy_total_cost\n",
       "0    426  CARLOSZARATE,    157654606.0\n",
       "1    895     FENGZHANG,    113344577.0\n",
       "2   2556    SUSANAMARA,     89773897.0\n",
       "3   2669   VICTORWPIKE,     69464900.0\n",
       "4   1112    JAMESRABER,     67439949.0"
      ]
     },
     "execution_count": 34,
     "metadata": {},
     "output_type": "execute_result"
    }
   ],
   "source": [
    "group2.groupby('unique_id', as_index = False)['fy_total_cost'].sum().sort_values(by='fy_total_cost', ascending = False).reset_index().head(5)"
   ]
  },
  {
   "cell_type": "markdown",
   "metadata": {},
   "source": [
    "8) Calculating total patents produced as a result of each group's research:"
   ]
  },
  {
   "cell_type": "code",
   "execution_count": 35,
   "metadata": {},
   "outputs": [
    {
     "data": {
      "text/plain": [
       "318"
      ]
     },
     "execution_count": 35,
     "metadata": {},
     "output_type": "execute_result"
    }
   ],
   "source": [
    "group1['patent_id'].nunique()"
   ]
  },
  {
   "cell_type": "code",
   "execution_count": 36,
   "metadata": {},
   "outputs": [
    {
     "data": {
      "text/plain": [
       "67"
      ]
     },
     "execution_count": 36,
     "metadata": {},
     "output_type": "execute_result"
    }
   ],
   "source": [
    "group2['patent_id'].nunique()"
   ]
  },
  {
   "cell_type": "markdown",
   "metadata": {},
   "source": [
    "The differences between these two groups appears to be reasonable. Group 1, being established, has more patents associated with their projects that are being funded between FY 2010-2018 than Group 2, the newer group of researchers. They may not have had the time to complete their research and develop a patent. \n",
    "\n",
    "However, it is interesting to note that the new group has about 20% of the patents of Group 1."
   ]
  },
  {
   "cell_type": "markdown",
   "metadata": {},
   "source": [
    "9) Calculate range of total funding amounts for each group."
   ]
  },
  {
   "cell_type": "code",
   "execution_count": 37,
   "metadata": {
    "scrolled": true
   },
   "outputs": [
    {
     "data": {
      "text/html": [
       "<div>\n",
       "<style scoped>\n",
       "    .dataframe tbody tr th:only-of-type {\n",
       "        vertical-align: middle;\n",
       "    }\n",
       "\n",
       "    .dataframe tbody tr th {\n",
       "        vertical-align: top;\n",
       "    }\n",
       "\n",
       "    .dataframe thead th {\n",
       "        text-align: right;\n",
       "    }\n",
       "</style>\n",
       "<table border=\"1\" class=\"dataframe\">\n",
       "  <thead>\n",
       "    <tr style=\"text-align: right;\">\n",
       "      <th></th>\n",
       "      <th>fy_total_cost</th>\n",
       "    </tr>\n",
       "  </thead>\n",
       "  <tbody>\n",
       "    <tr>\n",
       "      <th>count</th>\n",
       "      <td>3.943000e+03</td>\n",
       "    </tr>\n",
       "    <tr>\n",
       "      <th>mean</th>\n",
       "      <td>2.879183e+06</td>\n",
       "    </tr>\n",
       "    <tr>\n",
       "      <th>std</th>\n",
       "      <td>1.473199e+07</td>\n",
       "    </tr>\n",
       "    <tr>\n",
       "      <th>min</th>\n",
       "      <td>0.000000e+00</td>\n",
       "    </tr>\n",
       "    <tr>\n",
       "      <th>25%</th>\n",
       "      <td>3.815170e+05</td>\n",
       "    </tr>\n",
       "    <tr>\n",
       "      <th>50%</th>\n",
       "      <td>1.102862e+06</td>\n",
       "    </tr>\n",
       "    <tr>\n",
       "      <th>75%</th>\n",
       "      <td>2.945012e+06</td>\n",
       "    </tr>\n",
       "    <tr>\n",
       "      <th>max</th>\n",
       "      <td>7.177558e+08</td>\n",
       "    </tr>\n",
       "  </tbody>\n",
       "</table>\n",
       "</div>"
      ],
      "text/plain": [
       "       fy_total_cost\n",
       "count   3.943000e+03\n",
       "mean    2.879183e+06\n",
       "std     1.473199e+07\n",
       "min     0.000000e+00\n",
       "25%     3.815170e+05\n",
       "50%     1.102862e+06\n",
       "75%     2.945012e+06\n",
       "max     7.177558e+08"
      ]
     },
     "execution_count": 37,
     "metadata": {},
     "output_type": "execute_result"
    }
   ],
   "source": [
    "group1.groupby('unique_id')['fy_total_cost'].sum().to_frame().reset_index().describe()"
   ]
  },
  {
   "cell_type": "markdown",
   "metadata": {},
   "source": [
    "## Visualizing Activity of Researchers"
   ]
  },
  {
   "cell_type": "markdown",
   "metadata": {},
   "source": [
    "10) Here is the distribution of group 1's unique projects by their start dates. This will help understand the current activity of established researchers."
   ]
  },
  {
   "cell_type": "code",
   "execution_count": 39,
   "metadata": {},
   "outputs": [],
   "source": [
    "plot1 = group1.groupby('project_start_year')['grant_project_id'].nunique().to_frame().reset_index()"
   ]
  },
  {
   "cell_type": "code",
   "execution_count": 40,
   "metadata": {},
   "outputs": [
    {
     "data": {
      "text/plain": [
       "Text(0.5, 1.0, 'Most have started new projects between 2010-2015')"
      ]
     },
     "execution_count": 40,
     "metadata": {},
     "output_type": "execute_result"
    },
    {
     "data": {
      "image/png": "[encoded data removed]",
      "text/plain": [
       "<Figure size 432x288 with 1 Axes>"
      ]
     },
     "metadata": {
      "needs_background": "light"
     },
     "output_type": "display_data"
    }
   ],
   "source": [
    "import matplotlib.pyplot as plt\n",
    "plt.plot(plot1.project_start_year, plot1.grant_project_id)\n",
    "plt.xlabel(\"Project Start Year\")\n",
    "plt.ylabel(\"Number of Projects\")\n",
    "plt.suptitle(\"Established Researchers Continue to be Active\")\n",
    "plt.title(\"Most have started new projects between 2010-2015\")"
   ]
  },
  {
   "cell_type": "markdown",
   "metadata": {},
   "source": [
    "The graph above is interesting, because it shows that Established Researchers are actively being funded and starting new research projects, suggesting that they might be 'popular' players and favored by agencies to conduct research."
   ]
  },
  {
   "cell_type": "markdown",
   "metadata": {},
   "source": [
    "### Step 4: Topic Modeling of Projects and Patents of Established and New Researchers:\n",
    "\n",
    "Now that we see a clear difference in the funding and patenting activity of both groups, we will examine the topics of research conducted by the researchers, and the topics of the patents to see which fields are being priortized or funded more than others.\n",
    "\n",
    "* We will use topic modeling with LDA analysis to examine the top words and topics associated with the projects and patents in each of the two groups."
   ]
  },
  {
   "cell_type": "markdown",
   "metadata": {},
   "source": [
    "1) First, extract all of the unique patents with their abstracts, associted with both groups 1 and 2. This will be our corpus of documents that contain abstracts of the patents."
   ]
  },
  {
   "cell_type": "code",
   "execution_count": 41,
   "metadata": {},
   "outputs": [
    {
     "data": {
      "text/html": [
       "<div>\n",
       "<style scoped>\n",
       "    .dataframe tbody tr th:only-of-type {\n",
       "        vertical-align: middle;\n",
       "    }\n",
       "\n",
       "    .dataframe tbody tr th {\n",
       "        vertical-align: top;\n",
       "    }\n",
       "\n",
       "    .dataframe thead th {\n",
       "        text-align: right;\n",
       "    }\n",
       "</style>\n",
       "<table border=\"1\" class=\"dataframe\">\n",
       "  <thead>\n",
       "    <tr style=\"text-align: right;\">\n",
       "      <th></th>\n",
       "      <th>patent_id</th>\n",
       "      <th>patent_abstract</th>\n",
       "    </tr>\n",
       "  </thead>\n",
       "  <tbody>\n",
       "    <tr>\n",
       "      <th>0</th>\n",
       "      <td>10017458</td>\n",
       "      <td>The invention relates to protein binding inter...</td>\n",
       "    </tr>\n",
       "    <tr>\n",
       "      <th>1</th>\n",
       "      <td>10039756</td>\n",
       "      <td>The disclosure relates to methods and composit...</td>\n",
       "    </tr>\n",
       "    <tr>\n",
       "      <th>2</th>\n",
       "      <td>10039813</td>\n",
       "      <td>The invention relates to methods of protecting...</td>\n",
       "    </tr>\n",
       "    <tr>\n",
       "      <th>3</th>\n",
       "      <td>10092199</td>\n",
       "      <td>0</td>\n",
       "    </tr>\n",
       "    <tr>\n",
       "      <th>4</th>\n",
       "      <td>10093898</td>\n",
       "      <td>Compositions and methods are provided for the ...</td>\n",
       "    </tr>\n",
       "  </tbody>\n",
       "</table>\n",
       "</div>"
      ],
      "text/plain": [
       "  patent_id                                    patent_abstract\n",
       "0  10017458  The invention relates to protein binding inter...\n",
       "1  10039756  The disclosure relates to methods and composit...\n",
       "2  10039813  The invention relates to methods of protecting...\n",
       "3  10092199                                                  0\n",
       "4  10093898  Compositions and methods are provided for the ..."
      ]
     },
     "execution_count": 41,
     "metadata": {},
     "output_type": "execute_result"
    }
   ],
   "source": [
    "group1_patents = group1.groupby('patent_id')['patent_abstract'].sum().to_frame().reset_index()\n",
    "group1_patents.head(5)"
   ]
  },
  {
   "cell_type": "code",
   "execution_count": 42,
   "metadata": {},
   "outputs": [
    {
     "data": {
      "text/html": [
       "<div>\n",
       "<style scoped>\n",
       "    .dataframe tbody tr th:only-of-type {\n",
       "        vertical-align: middle;\n",
       "    }\n",
       "\n",
       "    .dataframe tbody tr th {\n",
       "        vertical-align: top;\n",
       "    }\n",
       "\n",
       "    .dataframe thead th {\n",
       "        text-align: right;\n",
       "    }\n",
       "</style>\n",
       "<table border=\"1\" class=\"dataframe\">\n",
       "  <thead>\n",
       "    <tr style=\"text-align: right;\">\n",
       "      <th></th>\n",
       "      <th>patent_id</th>\n",
       "      <th>patent_abstract</th>\n",
       "    </tr>\n",
       "  </thead>\n",
       "  <tbody>\n",
       "    <tr>\n",
       "      <th>0</th>\n",
       "      <td>10087168</td>\n",
       "      <td>The present technology relates to compounds an...</td>\n",
       "    </tr>\n",
       "    <tr>\n",
       "      <th>1</th>\n",
       "      <td>10093686</td>\n",
       "      <td>The present invention relates to compounds and...</td>\n",
       "    </tr>\n",
       "    <tr>\n",
       "      <th>2</th>\n",
       "      <td>10266886</td>\n",
       "      <td>0</td>\n",
       "    </tr>\n",
       "    <tr>\n",
       "      <th>3</th>\n",
       "      <td>10266887</td>\n",
       "      <td>0</td>\n",
       "    </tr>\n",
       "    <tr>\n",
       "      <th>4</th>\n",
       "      <td>10279051</td>\n",
       "      <td>0</td>\n",
       "    </tr>\n",
       "  </tbody>\n",
       "</table>\n",
       "</div>"
      ],
      "text/plain": [
       "  patent_id                                    patent_abstract\n",
       "0  10087168  The present technology relates to compounds an...\n",
       "1  10093686  The present invention relates to compounds and...\n",
       "2  10266886                                                  0\n",
       "3  10266887                                                  0\n",
       "4  10279051                                                  0"
      ]
     },
     "execution_count": 42,
     "metadata": {},
     "output_type": "execute_result"
    }
   ],
   "source": [
    "group2_patents = group2.groupby('patent_id')['patent_abstract'].sum().to_frame().reset_index()\n",
    "group2_patents.head(5)"
   ]
  },
  {
   "cell_type": "code",
   "execution_count": 43,
   "metadata": {},
   "outputs": [],
   "source": [
    "# Remove patents without any abstract information:\n",
    "group1_patents = group1_patents[group1_patents['patent_abstract'] != 0]\n",
    "group2_patents = group2_patents[group2_patents['patent_abstract'] != 0]"
   ]
  },
  {
   "cell_type": "markdown",
   "metadata": {},
   "source": [
    "2) Prepare patent abstract data for topic modeling:"
   ]
  },
  {
   "cell_type": "code",
   "execution_count": 44,
   "metadata": {},
   "outputs": [],
   "source": [
    "# Extract abstracts column and convert to list:\n",
    "group1_patents_list = group1_patents['patent_abstract'].values.tolist()\n",
    "group2_patents_list = group2_patents['patent_abstract'].values.tolist()\n",
    "\n",
    "# Initiate stemmer:\n",
    "stemmer = SnowballStemmer(\"english\")\n",
    "\n",
    "# Function to tokenize words in each abstract, remove punctuation, and stemming:\n",
    "def tokenize(text):\n",
    "    translator = str.maketrans(string.punctuation, ' ' * len(string.punctuation))  # translator that replaces punctuation with empty spaces\n",
    "    return [stemmer.stem(i) for i in text.translate(translator).split()]  # stemmer and tokenizing into words\n",
    "\n",
    "# Import stop words and tokenize\n",
    "stop_words = set(stopwords.words('english'))\n",
    "stop_words = [tokenize(s)[0] for s in stop_words]"
   ]
  },
  {
   "cell_type": "code",
   "execution_count": 45,
   "metadata": {},
   "outputs": [],
   "source": [
    "# Initialize vectorizer to create matrix of words for all abstracts:\n",
    "vectorizer = CountVectorizer(analyzer=\"word\",        # unit of features are single words rather than characters\n",
    "                            tokenizer=tokenize,      # function to create tokens\n",
    "                            ngram_range=(0,1),       # unigrams - single words\n",
    "                            strip_accents='unicode', # remove accent characters\n",
    "                            min_df = 0.05,           # only include words with minimum frequency of 0.05\n",
    "                            max_df = 0.95,          # only include words with maximum frequency of 0.95\n",
    "                            stop_words = stop_words)  # remove stop words"
   ]
  },
  {
   "cell_type": "code",
   "execution_count": 46,
   "metadata": {},
   "outputs": [
    {
     "data": {
      "text/html": [
       "<div>\n",
       "<style scoped>\n",
       "    .dataframe tbody tr th:only-of-type {\n",
       "        vertical-align: middle;\n",
       "    }\n",
       "\n",
       "    .dataframe tbody tr th {\n",
       "        vertical-align: top;\n",
       "    }\n",
       "\n",
       "    .dataframe thead th {\n",
       "        text-align: right;\n",
       "    }\n",
       "</style>\n",
       "<table border=\"1\" class=\"dataframe\">\n",
       "  <thead>\n",
       "    <tr style=\"text-align: right;\">\n",
       "      <th></th>\n",
       "      <th>1</th>\n",
       "      <th>2</th>\n",
       "      <th>3</th>\n",
       "      <th>5</th>\n",
       "      <th>abstract</th>\n",
       "      <th>acetylcholin</th>\n",
       "      <th>acid</th>\n",
       "      <th>activ</th>\n",
       "      <th>agent</th>\n",
       "      <th>alloster</th>\n",
       "      <th>...</th>\n",
       "      <th>tool</th>\n",
       "      <th>traumat</th>\n",
       "      <th>treat</th>\n",
       "      <th>treatment</th>\n",
       "      <th>use</th>\n",
       "      <th>various</th>\n",
       "      <th>vivo</th>\n",
       "      <th>weight</th>\n",
       "      <th>well</th>\n",
       "      <th>wherein</th>\n",
       "    </tr>\n",
       "  </thead>\n",
       "  <tbody>\n",
       "    <tr>\n",
       "      <th>0</th>\n",
       "      <td>0</td>\n",
       "      <td>0</td>\n",
       "      <td>0</td>\n",
       "      <td>4</td>\n",
       "      <td>0</td>\n",
       "      <td>0</td>\n",
       "      <td>0</td>\n",
       "      <td>0</td>\n",
       "      <td>0</td>\n",
       "      <td>0</td>\n",
       "      <td>...</td>\n",
       "      <td>0</td>\n",
       "      <td>0</td>\n",
       "      <td>4</td>\n",
       "      <td>0</td>\n",
       "      <td>4</td>\n",
       "      <td>0</td>\n",
       "      <td>0</td>\n",
       "      <td>0</td>\n",
       "      <td>0</td>\n",
       "      <td>0</td>\n",
       "    </tr>\n",
       "    <tr>\n",
       "      <th>1</th>\n",
       "      <td>0</td>\n",
       "      <td>0</td>\n",
       "      <td>5</td>\n",
       "      <td>0</td>\n",
       "      <td>0</td>\n",
       "      <td>0</td>\n",
       "      <td>5</td>\n",
       "      <td>5</td>\n",
       "      <td>0</td>\n",
       "      <td>0</td>\n",
       "      <td>...</td>\n",
       "      <td>0</td>\n",
       "      <td>0</td>\n",
       "      <td>0</td>\n",
       "      <td>0</td>\n",
       "      <td>5</td>\n",
       "      <td>0</td>\n",
       "      <td>0</td>\n",
       "      <td>0</td>\n",
       "      <td>0</td>\n",
       "      <td>0</td>\n",
       "    </tr>\n",
       "    <tr>\n",
       "      <th>2</th>\n",
       "      <td>0</td>\n",
       "      <td>0</td>\n",
       "      <td>0</td>\n",
       "      <td>0</td>\n",
       "      <td>0</td>\n",
       "      <td>0</td>\n",
       "      <td>0</td>\n",
       "      <td>0</td>\n",
       "      <td>0</td>\n",
       "      <td>0</td>\n",
       "      <td>...</td>\n",
       "      <td>0</td>\n",
       "      <td>0</td>\n",
       "      <td>4</td>\n",
       "      <td>0</td>\n",
       "      <td>0</td>\n",
       "      <td>0</td>\n",
       "      <td>0</td>\n",
       "      <td>0</td>\n",
       "      <td>0</td>\n",
       "      <td>0</td>\n",
       "    </tr>\n",
       "    <tr>\n",
       "      <th>3</th>\n",
       "      <td>0</td>\n",
       "      <td>0</td>\n",
       "      <td>0</td>\n",
       "      <td>0</td>\n",
       "      <td>0</td>\n",
       "      <td>0</td>\n",
       "      <td>0</td>\n",
       "      <td>0</td>\n",
       "      <td>0</td>\n",
       "      <td>0</td>\n",
       "      <td>...</td>\n",
       "      <td>0</td>\n",
       "      <td>0</td>\n",
       "      <td>0</td>\n",
       "      <td>0</td>\n",
       "      <td>0</td>\n",
       "      <td>0</td>\n",
       "      <td>0</td>\n",
       "      <td>0</td>\n",
       "      <td>0</td>\n",
       "      <td>0</td>\n",
       "    </tr>\n",
       "    <tr>\n",
       "      <th>4</th>\n",
       "      <td>0</td>\n",
       "      <td>0</td>\n",
       "      <td>0</td>\n",
       "      <td>0</td>\n",
       "      <td>0</td>\n",
       "      <td>0</td>\n",
       "      <td>0</td>\n",
       "      <td>0</td>\n",
       "      <td>0</td>\n",
       "      <td>0</td>\n",
       "      <td>...</td>\n",
       "      <td>0</td>\n",
       "      <td>0</td>\n",
       "      <td>0</td>\n",
       "      <td>0</td>\n",
       "      <td>2</td>\n",
       "      <td>0</td>\n",
       "      <td>0</td>\n",
       "      <td>0</td>\n",
       "      <td>0</td>\n",
       "      <td>0</td>\n",
       "    </tr>\n",
       "  </tbody>\n",
       "</table>\n",
       "<p>5 rows × 148 columns</p>\n",
       "</div>"
      ],
      "text/plain": [
       "   1  2  3  5  abstract  acetylcholin  acid  activ  agent  alloster  ...  \\\n",
       "0  0  0  0  4         0             0     0      0      0         0  ...   \n",
       "1  0  0  5  0         0             0     5      5      0         0  ...   \n",
       "2  0  0  0  0         0             0     0      0      0         0  ...   \n",
       "3  0  0  0  0         0             0     0      0      0         0  ...   \n",
       "4  0  0  0  0         0             0     0      0      0         0  ...   \n",
       "\n",
       "   tool  traumat  treat  treatment  use  various  vivo  weight  well  wherein  \n",
       "0     0        0      4          0    4        0     0       0     0        0  \n",
       "1     0        0      0          0    5        0     0       0     0        0  \n",
       "2     0        0      4          0    0        0     0       0     0        0  \n",
       "3     0        0      0          0    0        0     0       0     0        0  \n",
       "4     0        0      0          0    2        0     0       0     0        0  \n",
       "\n",
       "[5 rows x 148 columns]"
      ]
     },
     "execution_count": 46,
     "metadata": {},
     "output_type": "execute_result"
    }
   ],
   "source": [
    "# Create bag of words for all abstracts in groups 1 and 2 and make into a dataframes:\n",
    "group1_bow = vectorizer.fit_transform(group1_patents_list)\n",
    "group1_features = vectorizer.get_feature_names()\n",
    "group1_bow_df = pd.DataFrame(group1_bow.todense(), columns = group1_features)\n",
    "group1_bow_df.head()"
   ]
  },
  {
   "cell_type": "code",
   "execution_count": 47,
   "metadata": {},
   "outputs": [
    {
     "data": {
      "text/html": [
       "<div>\n",
       "<style scoped>\n",
       "    .dataframe tbody tr th:only-of-type {\n",
       "        vertical-align: middle;\n",
       "    }\n",
       "\n",
       "    .dataframe tbody tr th {\n",
       "        vertical-align: top;\n",
       "    }\n",
       "\n",
       "    .dataframe thead th {\n",
       "        text-align: right;\n",
       "    }\n",
       "</style>\n",
       "<table border=\"1\" class=\"dataframe\">\n",
       "  <thead>\n",
       "    <tr style=\"text-align: right;\">\n",
       "      <th></th>\n",
       "      <th>2</th>\n",
       "      <th>5</th>\n",
       "      <th>acid</th>\n",
       "      <th>activ</th>\n",
       "      <th>adequ</th>\n",
       "      <th>administr</th>\n",
       "      <th>agent</th>\n",
       "      <th>also</th>\n",
       "      <th>alter</th>\n",
       "      <th>amelior</th>\n",
       "      <th>...</th>\n",
       "      <th>treat</th>\n",
       "      <th>treatment</th>\n",
       "      <th>trial</th>\n",
       "      <th>use</th>\n",
       "      <th>util</th>\n",
       "      <th>vector</th>\n",
       "      <th>virus</th>\n",
       "      <th>well</th>\n",
       "      <th>wherein</th>\n",
       "      <th>year</th>\n",
       "    </tr>\n",
       "  </thead>\n",
       "  <tbody>\n",
       "    <tr>\n",
       "      <th>0</th>\n",
       "      <td>0</td>\n",
       "      <td>0</td>\n",
       "      <td>0</td>\n",
       "      <td>0</td>\n",
       "      <td>0</td>\n",
       "      <td>0</td>\n",
       "      <td>0</td>\n",
       "      <td>0</td>\n",
       "      <td>0</td>\n",
       "      <td>0</td>\n",
       "      <td>...</td>\n",
       "      <td>0</td>\n",
       "      <td>2</td>\n",
       "      <td>0</td>\n",
       "      <td>4</td>\n",
       "      <td>0</td>\n",
       "      <td>0</td>\n",
       "      <td>2</td>\n",
       "      <td>0</td>\n",
       "      <td>0</td>\n",
       "      <td>0</td>\n",
       "    </tr>\n",
       "    <tr>\n",
       "      <th>1</th>\n",
       "      <td>0</td>\n",
       "      <td>0</td>\n",
       "      <td>0</td>\n",
       "      <td>0</td>\n",
       "      <td>0</td>\n",
       "      <td>0</td>\n",
       "      <td>0</td>\n",
       "      <td>0</td>\n",
       "      <td>0</td>\n",
       "      <td>0</td>\n",
       "      <td>...</td>\n",
       "      <td>0</td>\n",
       "      <td>9</td>\n",
       "      <td>0</td>\n",
       "      <td>9</td>\n",
       "      <td>0</td>\n",
       "      <td>0</td>\n",
       "      <td>0</td>\n",
       "      <td>0</td>\n",
       "      <td>0</td>\n",
       "      <td>0</td>\n",
       "    </tr>\n",
       "    <tr>\n",
       "      <th>2</th>\n",
       "      <td>0</td>\n",
       "      <td>0</td>\n",
       "      <td>0</td>\n",
       "      <td>0</td>\n",
       "      <td>0</td>\n",
       "      <td>0</td>\n",
       "      <td>0</td>\n",
       "      <td>0</td>\n",
       "      <td>0</td>\n",
       "      <td>0</td>\n",
       "      <td>...</td>\n",
       "      <td>0</td>\n",
       "      <td>27</td>\n",
       "      <td>0</td>\n",
       "      <td>0</td>\n",
       "      <td>0</td>\n",
       "      <td>0</td>\n",
       "      <td>0</td>\n",
       "      <td>0</td>\n",
       "      <td>0</td>\n",
       "      <td>0</td>\n",
       "    </tr>\n",
       "    <tr>\n",
       "      <th>3</th>\n",
       "      <td>9</td>\n",
       "      <td>0</td>\n",
       "      <td>0</td>\n",
       "      <td>0</td>\n",
       "      <td>0</td>\n",
       "      <td>0</td>\n",
       "      <td>0</td>\n",
       "      <td>0</td>\n",
       "      <td>0</td>\n",
       "      <td>0</td>\n",
       "      <td>...</td>\n",
       "      <td>0</td>\n",
       "      <td>18</td>\n",
       "      <td>0</td>\n",
       "      <td>0</td>\n",
       "      <td>0</td>\n",
       "      <td>0</td>\n",
       "      <td>0</td>\n",
       "      <td>0</td>\n",
       "      <td>9</td>\n",
       "      <td>0</td>\n",
       "    </tr>\n",
       "    <tr>\n",
       "      <th>4</th>\n",
       "      <td>0</td>\n",
       "      <td>0</td>\n",
       "      <td>0</td>\n",
       "      <td>0</td>\n",
       "      <td>0</td>\n",
       "      <td>0</td>\n",
       "      <td>0</td>\n",
       "      <td>27</td>\n",
       "      <td>0</td>\n",
       "      <td>0</td>\n",
       "      <td>...</td>\n",
       "      <td>0</td>\n",
       "      <td>0</td>\n",
       "      <td>0</td>\n",
       "      <td>27</td>\n",
       "      <td>0</td>\n",
       "      <td>0</td>\n",
       "      <td>0</td>\n",
       "      <td>0</td>\n",
       "      <td>0</td>\n",
       "      <td>0</td>\n",
       "    </tr>\n",
       "  </tbody>\n",
       "</table>\n",
       "<p>5 rows × 139 columns</p>\n",
       "</div>"
      ],
      "text/plain": [
       "   2  5  acid  activ  adequ  administr  agent  also  alter  amelior  ...  \\\n",
       "0  0  0     0      0      0          0      0     0      0        0  ...   \n",
       "1  0  0     0      0      0          0      0     0      0        0  ...   \n",
       "2  0  0     0      0      0          0      0     0      0        0  ...   \n",
       "3  9  0     0      0      0          0      0     0      0        0  ...   \n",
       "4  0  0     0      0      0          0      0    27      0        0  ...   \n",
       "\n",
       "   treat  treatment  trial  use  util  vector  virus  well  wherein  year  \n",
       "0      0          2      0    4     0       0      2     0        0     0  \n",
       "1      0          9      0    9     0       0      0     0        0     0  \n",
       "2      0         27      0    0     0       0      0     0        0     0  \n",
       "3      0         18      0    0     0       0      0     0        9     0  \n",
       "4      0          0      0   27     0       0      0     0        0     0  \n",
       "\n",
       "[5 rows x 139 columns]"
      ]
     },
     "execution_count": 47,
     "metadata": {},
     "output_type": "execute_result"
    }
   ],
   "source": [
    "group2_bow = vectorizer.fit_transform(group2_patents_list)\n",
    "group2_features = vectorizer.get_feature_names()\n",
    "group2_bow_df = pd.DataFrame(group2_bow.todense(), columns = group2_features)\n",
    "group2_bow_df.head()"
   ]
  },
  {
   "cell_type": "code",
   "execution_count": 48,
   "metadata": {},
   "outputs": [],
   "source": [
    "# Fit LDA model for group 1:\n",
    "# Use 10 topics to start:\n",
    "\n",
    "transformer = TfidfTransformer(norm = None, smooth_idf = True, sublinear_tf = True)\n",
    "tfidf1 = transformer.fit_transform(group1_bow)\n",
    "\n",
    "# Fitting LDA model\n",
    "group1_lda = LatentDirichletAllocation(n_components = 7, learning_method='online')\n",
    "\n",
    "# Document topics:\n",
    "doctopic = group1_lda.fit_transform(tfidf1)"
   ]
  },
  {
   "cell_type": "code",
   "execution_count": 49,
   "metadata": {},
   "outputs": [
    {
     "name": "stdout",
     "output_type": "stream",
     "text": [
      "0 sequenc, disclos, herein, nucleic, acid, method, target, detect, specif, protein\n",
      "1 intend, alloster, make, scan, purpos, abstract, art, tool, search, dysfunct\n",
      "2 acid, wherein, nucleic, target, cell, method, compris, herein, invent, differ\n",
      "3 e, g, cell, protect, neuron, subject, relat, invent, neurogenesi, death\n",
      "4 injuri, traumat, brain, epilepsi, normal, stress, diseas, neurogenesi, post, cognit\n",
      "5 imag, system, provid, magnet, reson, screen, generat, may, method, data\n",
      "6 treatment, provid, compound, inhibit, use, diseas, composit, activ, disord, condit\n"
     ]
    }
   ],
   "source": [
    "# Displaying the top keywords in each topic:\n",
    "group1_kwd = []\n",
    "for i,topic in enumerate(group1_lda.components_):\n",
    "    word_idx = np.argsort(topic)[::-1][:10]\n",
    "    keywords = ', '.join(group1_features[i] for i in word_idx)\n",
    "    group1_kwd.append(keywords)\n",
    "    print(i, keywords)"
   ]
  },
  {
   "cell_type": "code",
   "execution_count": 50,
   "metadata": {},
   "outputs": [],
   "source": [
    "# Fit LDA model for group 2:\n",
    "# Use 10 topics to start:\n",
    "\n",
    "transformer = TfidfTransformer(norm = None, smooth_idf = True, sublinear_tf = True)\n",
    "tfidf2 = transformer.fit_transform(group2_bow)\n",
    "\n",
    "# Fitting LDA model\n",
    "group2_lda = LatentDirichletAllocation(n_components = 7, learning_method='online')\n",
    "\n",
    "# Document topics:\n",
    "doctopic2 = group2_lda.fit_transform(tfidf2)"
   ]
  },
  {
   "cell_type": "code",
   "execution_count": 51,
   "metadata": {},
   "outputs": [
    {
     "name": "stdout",
     "output_type": "stream",
     "text": [
      "0 present, use, diseas, receptor, brain, relat, disclos, treatment, compound, disord\n",
      "1 contain, pharmaceut, depress, disclosur, provid, ketamin, includ, treatment, thereof, bipolar\n",
      "2 base, disord, may, identifi, use, symptom, system, effect, one, determin\n",
      "3 sampl, risk, determin, genet, assay, combin, associ, patient, obtain, thereof\n",
      "4 crispr, vector, system, complex, sequenc, compon, provid, cas, design, format\n",
      "5 genom, dna, compris, acid, least, termin, nucleic, wherein, locus, polypeptid\n",
      "6 symptom, depress, recurr, intranas, year, episod, administr, respond, trial, amelior\n"
     ]
    }
   ],
   "source": [
    "# Displaying the top keywords in each topic:\n",
    "group2_kwd = []\n",
    "for i,topic in enumerate(group2_lda.components_):\n",
    "    word_idx = np.argsort(topic)[::-1][:10]\n",
    "    keywords = ', '.join(group2_features[i] for i in word_idx)\n",
    "    group2_kwd.append(keywords)\n",
    "    print(i, keywords)"
   ]
  },
  {
   "cell_type": "code",
   "execution_count": null,
   "metadata": {},
   "outputs": [],
   "source": []
  }
 ],
 "metadata": {
  "kernelspec": {
   "display_name": "Python 3",
   "language": "python",
   "name": "python3"
  },
  "language_info": {
   "codemirror_mode": {
    "name": "ipython",
    "version": 3
   },
   "file_extension": ".py",
   "mimetype": "text/x-python",
   "name": "python",
   "nbconvert_exporter": "python",
   "pygments_lexer": "ipython3",
   "version": "3.7.6"
  }
 },
 "nbformat": 4,
 "nbformat_minor": 4
}
